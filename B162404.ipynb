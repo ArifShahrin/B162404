{
 "cells": [
  {
   "cell_type": "code",
   "execution_count": null,
   "metadata": {},
   "outputs": [],
   "source": [
    "#setup \n",
    "\n",
    "#import dsata\n",
    "df1 = pd.read_excel(\"UNPS_1112_PS2.xls\")\n",
    "\n",
    "#1a\n",
    "#count number of duplicates in column hhid \n",
    "print(\"the number of duplicates is \",df1.hhid.duplicated().sum() )\n",
    "\n",
    "print(\"there are \", len(df1[\"hhid\"]), \"observations.\")\n",
    "\n"
   ]
  }
 ],
 "metadata": {
  "language_info": {
   "name": "python"
  },
  "orig_nbformat": 4
 },
 "nbformat": 4,
 "nbformat_minor": 2
}
